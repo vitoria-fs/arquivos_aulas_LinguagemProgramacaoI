{
  "nbformat": 4,
  "nbformat_minor": 0,
  "metadata": {
    "colab": {
      "provenance": [],
      "toc_visible": true,
      "authorship_tag": "ABX9TyNn7rZaxi9SelT7PwImlOiG",
      "include_colab_link": true
    },
    "kernelspec": {
      "name": "python3",
      "display_name": "Python 3"
    },
    "language_info": {
      "name": "python"
    }
  },
  "cells": [
    {
      "cell_type": "markdown",
      "metadata": {
        "id": "view-in-github",
        "colab_type": "text"
      },
      "source": [
        "<a href=\"https://colab.research.google.com/github/vitoria-fs/arquivos_aulas_LinguagemProgramacaoI/blob/main/Aula_03_Fundamento_de_Python.ipynb\" target=\"_parent\"><img src=\"https://colab.research.google.com/assets/colab-badge.svg\" alt=\"Open In Colab\"/></a>"
      ]
    },
    {
      "cell_type": "markdown",
      "source": [
        "## Aula 03 - Fundamentos da Linguagem Python\n",
        "\n",
        "* Impressões de informações\n",
        "* Entradas de dados\n",
        "* Desvio Condicional\n",
        "\n",
        "\n",
        "\n",
        "\n"
      ],
      "metadata": {
        "id": "n0HbzlWNC10Y"
      }
    },
    {
      "cell_type": "markdown",
      "source": [
        "## EXERCÍCIO 9 - Imprimindo, Imprimindo, Imprimindo"
      ],
      "metadata": {
        "id": "4Q54K-IsDcbs"
      }
    },
    {
      "cell_type": "code",
      "source": [
        "days = \"Mon Tue Wed Thu Fri Sat Sun\"\n",
        "months = \"Jan\\nFeb\\nMar\\nApr\\nMay\\nJun\\nJul\\nAgo\\nSet\\nOut\\nNov\\nDez\"\n",
        "\n",
        "print(\"Here are the days: \", days)\n",
        "print(\"Here are the months: \", months)\n",
        "\n",
        "print(\"\"\"\n",
        "There's something going on here.\n",
        "With the three double-quotes.\n",
        "We'll be able to type as much as we like.\n",
        "Even 4 line if we want, or 5, or 6.\n",
        "\"\"\")"
      ],
      "metadata": {
        "colab": {
          "base_uri": "https://localhost:8080/"
        },
        "id": "sraU3tvZIPix",
        "outputId": "2734b6c3-77fc-4839-c3ba-fbfd4ef210f4"
      },
      "execution_count": null,
      "outputs": [
        {
          "output_type": "stream",
          "name": "stdout",
          "text": [
            "Here are the days:  Mon Tue Wed Thu Fri Sat Sun\n",
            "Here are the months:  Jan\n",
            "Feb\n",
            "Mar\n",
            "Apr\n",
            "May\n",
            "Jun\n",
            "Jul\n",
            "Ago\n",
            "Set\n",
            "Out\n",
            "Nov\n",
            "Dez\n",
            "\n",
            "There's something going on here.\n",
            "With the three double-quotes.\n",
            "We'll be able to type as much as we like.\n",
            "Even 4 line if we want, or 5, or 6.\n",
            "\n"
          ]
        }
      ]
    },
    {
      "cell_type": "markdown",
      "source": [
        "## EXERCÍCIO 10 - O que foi isso?\n"
      ],
      "metadata": {
        "id": "1iM-S6hgF5IJ"
      }
    },
    {
      "cell_type": "code",
      "source": [
        "tabby_cat = \"\\tI'm tabbed in.\"\n",
        "persian_cat = \"I'm split\\non a line.\"\n",
        "backslash_cat = \"I'm \\\\ a \\\\ cat.\"\n",
        "\n",
        "fat_cat = \"\"\"\n",
        "I'll do a list:\n",
        "\\t* Cat food \\t* Fishies\n",
        "\\t* Catnip\\n\\t* Grass\n",
        "\"\"\"\n",
        "\n",
        "print(tabby_cat)\n",
        "print(persian_cat)\n",
        "print(backslash_cat)\n",
        "print(fat_cat)\n"
      ],
      "metadata": {
        "id": "0TtwRC5OGAoA",
        "colab": {
          "base_uri": "https://localhost:8080/"
        },
        "outputId": "c1fe9c5a-8a4d-4313-f337-edd16057de33"
      },
      "execution_count": 1,
      "outputs": [
        {
          "output_type": "stream",
          "name": "stdout",
          "text": [
            "\tI'm tabbed in.\n",
            "I'm split\n",
            "on a line.\n",
            "I'm \\ a \\ cat.\n",
            "\n",
            "I'll do a list:\n",
            "\t* Cat food \t* Fishies\n",
            "\t* Catnip\n",
            "\t* Grass\n",
            "\n"
          ]
        }
      ]
    },
    {
      "cell_type": "markdown",
      "source": [
        "## EXERCÍCIO 11 - Fazendo Perguntas\n"
      ],
      "metadata": {
        "id": "0Re5hzHyF2e8"
      }
    },
    {
      "cell_type": "code",
      "source": [
        "print(\"How old are you?\", end=' ')\n",
        "age = input()\n",
        "print(\"How tall are you?\", end=' ')\n",
        "height = input()\n",
        "print(\"How much do you weigh?\", end=' ')\n",
        "weight = input()\n",
        "\n",
        "print(f\"So, you're {age} old, {height} tall and {weight} heavy.\")\n"
      ],
      "metadata": {
        "id": "Bb7o214lGlUK",
        "colab": {
          "base_uri": "https://localhost:8080/"
        },
        "outputId": "4f5061ab-b0e9-483f-c835-cb5be66a70cf"
      },
      "execution_count": 3,
      "outputs": [
        {
          "output_type": "stream",
          "name": "stdout",
          "text": [
            "How old are you? 28\n",
            "How tall are you? 1,58\n",
            "How much do you weigh? 60 kg\n",
            "So, you're 28 old, 1,58 tall and 60 kg heavy.\n"
          ]
        }
      ]
    },
    {
      "cell_type": "markdown",
      "source": [
        "## EXERCÍCIO 12 - Perguntando as pessoas"
      ],
      "metadata": {
        "id": "D-pOcq_dHJPM"
      }
    },
    {
      "cell_type": "code",
      "source": [
        "age = input(\"How old are you? \")\n",
        "height = input(\"How tall are you? \")\n",
        "weight = input(\"How much do you weigh? \")\n",
        "\n",
        "print(f\"So, you're {age} old, {height} tall and {weight} heavy.\")"
      ],
      "metadata": {
        "id": "oRo_V7I8IKvc",
        "colab": {
          "base_uri": "https://localhost:8080/"
        },
        "outputId": "9112a461-7b78-4141-e76d-3cd248477054"
      },
      "execution_count": 2,
      "outputs": [
        {
          "output_type": "stream",
          "name": "stdout",
          "text": [
            "How old are you? 28\n",
            "How tall are you? 1,58\n",
            "How much do you weigh? 60 kg\n",
            "So, you're 28 old, 1,58 tall and 60 kg heavy.\n"
          ]
        }
      ]
    },
    {
      "cell_type": "markdown",
      "source": [
        "## EXERCÍCIO 13 - Instrução IF"
      ],
      "metadata": {
        "id": "OcHd2iiNHkH-"
      }
    },
    {
      "cell_type": "code",
      "source": [
        "people = 20\n",
        "cats = 30\n",
        "dogs = 15\n",
        "\n",
        "if people < cats:\n",
        "   print(\"Too many cats! The world is doomed!\")\n",
        "\n",
        "if people > cats:\n",
        "   print(\"Not many cats! The world is saved!\")\n",
        "\n",
        "if people < dogs:\n",
        "   print(\"The world is drooled on!\")\n",
        "\n",
        "if people > dogs:\n",
        "   print(\"The world is dry!\")\n",
        "\n",
        "dogs += 5\n",
        "\n",
        "if people >= dogs:\n",
        "   print(\"People are greater than or equal to dogs.\")\n",
        "\n",
        "if people <= dogs:\n",
        "   print(\"People are less than or equal to dogs.\")\n",
        "\n",
        "if people == dogs:\n",
        "   print(\"People are dogs.\")"
      ],
      "metadata": {
        "id": "Xpg4X6c8JD0p",
        "colab": {
          "base_uri": "https://localhost:8080/"
        },
        "outputId": "c765c6f3-0c31-405a-adc4-832ec14ce996"
      },
      "execution_count": 4,
      "outputs": [
        {
          "output_type": "stream",
          "name": "stdout",
          "text": [
            "Too many cats! The world is doomed!\n",
            "The world is dry!\n",
            "People are greater than or equal to dogs.\n",
            "People are less than or equal to dogs.\n",
            "People are dogs.\n"
          ]
        }
      ]
    },
    {
      "cell_type": "markdown",
      "source": [
        "## EXERCÍCIO 14 - Else e IF"
      ],
      "metadata": {
        "id": "Oux7CRvEJHYD"
      }
    },
    {
      "cell_type": "code",
      "source": [
        "people = 30\n",
        "cars = 40\n",
        "trucks = 15\n",
        "\n",
        "if cars > people:\n",
        "   print(\"We should take the cars.\")\n",
        "elif cars < people:\n",
        "   print(\"We should not take the cars.\")\n",
        "else:\n",
        "   print(\"We can't decide.\")\n",
        "\n",
        "if trucks > cars:\n",
        "   print(\"That's too many trucks.\")\n",
        "elif trucks < cars:\n",
        "   print(\"Maybe we could take the trucks.\")\n",
        "else:\n",
        "   print(\"We still can't decide.\")\n",
        "\n",
        "if people > trucks:\n",
        "   print(\"Alright, let's just take the trucks.\")\n",
        "else:\n",
        "   print(\"Fine, let's stay home then.\")"
      ],
      "metadata": {
        "id": "T6ARaA6iKmtr",
        "colab": {
          "base_uri": "https://localhost:8080/"
        },
        "outputId": "28797832-3f0a-4479-e965-9d7d8772bbc1"
      },
      "execution_count": 5,
      "outputs": [
        {
          "output_type": "stream",
          "name": "stdout",
          "text": [
            "We should take the cars.\n",
            "Maybe we could take the trucks.\n",
            "Alright, let's just take the trucks.\n"
          ]
        }
      ]
    },
    {
      "cell_type": "markdown",
      "source": [
        "## EXERCÍCIO 15 - Tomando Decisões"
      ],
      "metadata": {
        "id": "HIP7ZXriKpfS"
      }
    },
    {
      "cell_type": "code",
      "source": [
        "print(\"\"\"You enter a dark room with two doors.\n",
        "         Do you go through door #1 or door #2?\"\"\")\n",
        "\n",
        "door = input(\"> \")\n",
        "\n",
        "if door == \"1\":\n",
        "   print(\"There's a giant bear here eating a cheese cake.\")\n",
        "   print(\"What do you do?\")\n",
        "   print(\"1. Take the cake.\")\n",
        "   print(\"2. Scream at the bear.\")\n",
        "\n",
        "   bear = input(\"> \")\n",
        "\n",
        "   if bear == \"1\":\n",
        "      print(\"The bear eats your face off. Good job!\")\n",
        "   elif bear == \"2\":\n",
        "      print(\"The bear eats your legs off. Good job!\")\n",
        "   else:\n",
        "      print(f\"Well, doing {bear} is probably better.\")\n",
        "      print(\"Bear runs away.\")\n",
        "\n",
        "elif door == \"2\":\n",
        "   print(\"You stare into the endless abyss at Cthulhu's retina.\")\n",
        "   print(\"1. Blueberries.\")\n",
        "   print(\"2. Yellow jacket clothespins.\")\n",
        "   print(\"3. Understanding revolvers yelling melodies.\")\n",
        "\n",
        "   insanity = input(\"> \")\n",
        "\n",
        "   if insanity == \"1\" or insanity == \"2\":\n",
        "    print(\"Your body survives powered by a mind of jello.\")\n",
        "    print(\"Good job!\")\n",
        "   else:\n",
        "    print(\"The insanity rots your eyes into a pool of muck.\")\n",
        "    print(\"Good job!\")\n",
        "\n",
        "else:\n",
        "   print(\"You stumble around and fall on a knife and die. Good job!\")"
      ],
      "metadata": {
        "id": "VKryI1eg0YHH",
        "colab": {
          "base_uri": "https://localhost:8080/"
        },
        "outputId": "41df9d10-45e7-423f-f905-6bbb4276bf3a"
      },
      "execution_count": 6,
      "outputs": [
        {
          "output_type": "stream",
          "name": "stdout",
          "text": [
            "You enter a dark room with two doors.\n",
            "         Do you go through door #1 or door #2?\n",
            "> 1\n",
            "There's a giant bear here eating a cheese cake.\n",
            "What do you do?\n",
            "1. Take the cake.\n",
            "2. Scream at the bear.\n",
            "> 2\n",
            "The bear eats your legs off. Good job!\n"
          ]
        }
      ]
    }
  ]
}