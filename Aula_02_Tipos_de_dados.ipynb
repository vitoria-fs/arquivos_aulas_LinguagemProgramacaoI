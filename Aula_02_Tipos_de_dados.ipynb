{
  "nbformat": 4,
  "nbformat_minor": 0,
  "metadata": {
    "colab": {
      "provenance": [],
      "toc_visible": true,
      "authorship_tag": "ABX9TyNrelz0ouNGONbNTswm2qy7",
      "include_colab_link": true
    },
    "kernelspec": {
      "name": "python3",
      "display_name": "Python 3"
    },
    "language_info": {
      "name": "python"
    }
  },
  "cells": [
    {
      "cell_type": "markdown",
      "metadata": {
        "id": "view-in-github",
        "colab_type": "text"
      },
      "source": [
        "<a href=\"https://colab.research.google.com/github/vitoria-fs/arquivos_aulas_LinguagemProgramacaoI/blob/main/Aula_02_Tipos_de_dados.ipynb\" target=\"_parent\"><img src=\"https://colab.research.google.com/assets/colab-badge.svg\" alt=\"Open In Colab\"/></a>"
      ]
    },
    {
      "cell_type": "markdown",
      "source": [
        "## Fundamento da Linguagem Python\n",
        "\n",
        "\n",
        "\n",
        "* Saber um pouco mais sobre a linguagem Python e como configurá-la no seu computador.\n",
        "* Entender o que são expressões aritméticas, expressões lógicas e operadores;\n",
        "* Compreender o que são variáveis e como usá-las;\n",
        "* Saber o que são strings e como usá-las.\n",
        "\n"
      ],
      "metadata": {
        "id": "77XqtkXP-k5t"
      }
    },
    {
      "cell_type": "markdown",
      "source": [
        "## EXERCÍCIO 5 - Mais Variáveis e Impressão\n",
        "\n",
        "Concatenação de variáveis mais texto, uma forma de usar a saída de dados com variáveis;"
      ],
      "metadata": {
        "id": "Amv5nvTj_eA-"
      }
    },
    {
      "cell_type": "code",
      "source": [
        "Name = 'Zed A. Shaw'\n",
        "Age = 35 # não é mentira\n",
        "Height = 74 # polegadas\n",
        "Weight = 180 # libras\n",
        "Eyes = 'Blue'\n",
        "Teeth = 'White'\n",
        "Hair = 'Brown'\n",
        "\n",
        "print(f\"Let's talk about {Name}.\")\n",
        "print(f\"He's {Height} inches tall.\")\n",
        "print(f\"He's {Weight} pounds heavy.\")\n",
        "print(\"Actually that's not too heavy.\")\n",
        "print(f\"He's got {Eyes} eyes and {Hair} hair.\")\n",
        "print(f\"His teeth are usually {Teeth} depending on the coffee.\")\n",
        "\n",
        "#Essa linha é capciosa, tente escrever exatamente como está\n",
        "total = Age + Height + Weight\n",
        "print(f\"If I add {Age}, {Height} and my {Weight} I get {total}.\")\n",
        "\n"
      ],
      "metadata": {
        "colab": {
          "base_uri": "https://localhost:8080/"
        },
        "id": "tUMGV_kD_4DL",
        "outputId": "dc8cac05-b38b-4227-c807-f6c0ae1bbf6d"
      },
      "execution_count": null,
      "outputs": [
        {
          "output_type": "stream",
          "name": "stdout",
          "text": [
            "Let's talk about Zed A. Shaw.\n",
            "He's 74 inches tall.\n",
            "He's 180 pounds heavy.\n",
            "Actually that's not too heavy.\n",
            "He's got Blue eyes and Brown hair.\n",
            "His teeth are usually White depending on the coffee.\n",
            "If I add 35, 74 and my 180 I get 289.\n"
          ]
        }
      ]
    },
    {
      "cell_type": "markdown",
      "source": [
        "## EXERCÍCIO 6 - Strings e Texto\n",
        "\n",
        "Algumas variáveis, um pouco complexas e um pouco de trabalho com Strings dentro de Strings;"
      ],
      "metadata": {
        "id": "ELYWo3Y1BzxF"
      }
    },
    {
      "cell_type": "code",
      "source": [
        "#atribuição de inteiro em variável\n",
        "type_of_people = 10\n",
        "#atribuição de string com variável embutida\n",
        "x = f\"There are {type_of_people} type of people.\"\n",
        "#atribuição de valor textual a uma variável\n",
        "binary = \"binary\"\n",
        "#atribuição de valor textual a uma variável\n",
        "do_not = \"don't\"\n",
        "#atribuição de string com variável embutida\n",
        "y = f\"Those who know {binary} and those who {do_not}.\"\n",
        "\n",
        "print(x) #imprime o valor da variável\n",
        "print(y) #imprime o valor da variável\n",
        "\n",
        "print(f\"I' said: {x}\") #imprime um texto com uma variável embutida\n",
        "print(f\"I also said: '{y}'\") #imprime um texto com uma variável embutida\n",
        "\n",
        "hilarious = False #criação de variável com valor booleano\n",
        "joke_evaluetion = \"Isn't that joke so funny?! {}\" ##criação de variável com texto e espaço para embutir uma variável sem defini-lá\n",
        "\n",
        "print(joke_evaluetion.format(hilarious)) #uma forma de imprimir a variável textual com uma variável embutida, que eu posso escolher\n",
        "\n",
        "w = \"This is left side of...\" #criação de variável com valor textual\n",
        "e = \"a string with a right side.\" #criação de variável com valor textual\n",
        "\n",
        "print(w + e) #concatena os valores textuais armazenado nas variáveis\n"
      ],
      "metadata": {
        "colab": {
          "base_uri": "https://localhost:8080/"
        },
        "id": "LwxXUlTCDO9w",
        "outputId": "c56f8fc3-8a00-43bb-b51b-2aa21b4e5bf6"
      },
      "execution_count": null,
      "outputs": [
        {
          "output_type": "stream",
          "name": "stdout",
          "text": [
            "There are 10 type of people.\n",
            "Those who know binary and those who don't.\n",
            "I' said: There are 10 type of people.\n",
            "I also said: 'Those who know binary and those who don't.'\n",
            "Isn't that joke so funny?! False\n",
            "This is left side of...a string with a right side.\n"
          ]
        }
      ]
    },
    {
      "cell_type": "markdown",
      "source": [
        "## EXERCÍCIO 7 - Mais Impressão\n",
        "\n",
        "Apenas para práticas a digitação e alguns conceitos sobre impressão de strings"
      ],
      "metadata": {
        "id": "EUgZse4sGdjQ"
      }
    },
    {
      "cell_type": "code",
      "source": [
        "print(\"Mary had a little lamb.\") #imprime um texto fixo\n",
        "print(\"Its fleece was white as {}.\".format('snow')) #imprime um texto com espaço para mudar algo\n",
        "print(\"And everywhere that Mary went.\") #imprime um texto fixo\n",
        "print(\".\" * 10) #what'd that do? imprime o ponto 10 vezes\n",
        "\n",
        "end1 = \"C\" #armazena dados textuais em variáveis\n",
        "end2 = \"h\"\n",
        "end3 = \"e\"\n",
        "end4 = \"e\"\n",
        "end5 = \"s\"\n",
        "end6 = \"e\"\n",
        "end7 = \"B\"\n",
        "end8 = \"u\"\n",
        "end9 = \"r\"\n",
        "end10 = \"g\"\n",
        "end11 = \"e\"\n",
        "end12 = \"r\"\n",
        "\n",
        "#Olhe aquela vírgula no fim. Tente removê-la para ver o que acontece\n",
        "print(end1 + end2 + end3 + end4 + end5 + end6, end='') #concatena os valores das variáveis e o final permite que\n",
        "print(end7 + end8 + end9 + end10 + end11 + end12)      #imprimir sem quebra de linha"
      ],
      "metadata": {
        "id": "AiF3lbWlG3kd"
      },
      "execution_count": null,
      "outputs": []
    },
    {
      "cell_type": "markdown",
      "source": [
        "## EXERCÍCIO 8 - Imprimindo, Imprimindo\n",
        "\n",
        "Formatação de strings de forma mais complexa."
      ],
      "metadata": {
        "id": "OkVlfXSq8xRl"
      }
    },
    {
      "cell_type": "code",
      "source": [
        "#Este código em Python usa um string formatter, que é uma forma de substituir valores dentro de um texto formatado.\n",
        "\n",
        "formatter = \"{} {} {} {}\" #Aqui, formatter é uma string que contém quatro marcadores {}.\n",
        "#Esses marcadores serão substituídos pelos valores passados dentro do método .format().\n",
        "\n",
        "# O .format() preenche os {} com os valores passados dentro dos parênteses.\n",
        "\n",
        "print(formatter.format(1, 2, 3, 4)) #Os números 1, 2, 3 e 4 são inseridos dentro da string, resultando em: \"1 2 3 4\"\n",
        "print(formatter.format(\"one\", \"two\", \"three\", \"four\")) #Os quatro strings substituem os {}: \"one two three four\"\n",
        "print(formatter.format(True, False, False, True)) #Os valores booleanos entram nos espaços da string: \"True False False True\"\n",
        "print(formatter.format(formatter, formatter, formatter, formatter)) # Aqui, a própria variável formatter é usada como argumento. Isso gera uma repetição da string \"{} {} {} {}\" quatro vezes: \"{} {} {} {} {} {} {} {} {} {} {} {} {} {} {} {}\"\n",
        "print(formatter.format( #As palavras são inseridas nos {}.\n",
        "    \"Try you\",\n",
        "    \"Own text here\",\n",
        "    \"Maybe a poem\",\n",
        "    \"Or a song about fear\"\n",
        "))"
      ],
      "metadata": {
        "colab": {
          "base_uri": "https://localhost:8080/"
        },
        "id": "m0Q_N01d896Y",
        "outputId": "ee5a8bc8-2cd2-4c2b-923a-51fd67ce1574"
      },
      "execution_count": null,
      "outputs": [
        {
          "output_type": "stream",
          "name": "stdout",
          "text": [
            "1 2 3 4\n",
            "one two three four\n",
            "True False False True\n",
            "{} {} {} {} {} {} {} {} {} {} {} {} {} {} {} {}\n",
            "Try you Own text here Maybe a poem Or a song about fear\n"
          ]
        }
      ]
    }
  ]
}