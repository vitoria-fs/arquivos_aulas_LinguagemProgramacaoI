{
  "nbformat": 4,
  "nbformat_minor": 0,
  "metadata": {
    "colab": {
      "provenance": [],
      "authorship_tag": "ABX9TyPHw1yg3rY+A/sMUTydMxa9",
      "include_colab_link": true
    },
    "kernelspec": {
      "name": "python3",
      "display_name": "Python 3"
    },
    "language_info": {
      "name": "python"
    }
  },
  "cells": [
    {
      "cell_type": "markdown",
      "metadata": {
        "id": "view-in-github",
        "colab_type": "text"
      },
      "source": [
        "<a href=\"https://colab.research.google.com/github/vitoria-fs/arquivos_aulas_LinguagemProgramacaoI/blob/main/Aula_05_Fundamento_de_Python.ipynb\" target=\"_parent\"><img src=\"https://colab.research.google.com/assets/colab-badge.svg\" alt=\"Open In Colab\"/></a>"
      ]
    },
    {
      "cell_type": "markdown",
      "source": [
        "##Exercício 23 - Lendo Arquivos\n",
        "\n",
        "---\n",
        "### REALIZAR NO VSCODE\n"
      ],
      "metadata": {
        "id": "nmnCgTG3DCTz"
      }
    },
    {
      "cell_type": "code",
      "source": [
        "# Só dá para realizar no VSCODE\n",
        "from sys import argv\n",
        "\n",
        "script, filename = argv\n",
        "txt = open(filename)\n",
        "\n",
        "print(f\"Here's your file {filename}:\")\n",
        "print(txt.read())\n",
        "\n",
        "print(\"Type the filename again:\")\n",
        "file_again = input(\"> \")\n",
        "\n",
        "txt_again = open(file_again)\n",
        "\n",
        "print(txt_again.read())"
      ],
      "metadata": {
        "id": "txj-NfiDDLPg"
      },
      "execution_count": null,
      "outputs": []
    },
    {
      "cell_type": "markdown",
      "source": [
        "##Exercício 24 - Lendo e gravando arquivos\n",
        "\n",
        "---\n",
        "### REALIZAR NO VSCODE"
      ],
      "metadata": {
        "id": "TCMjvqH9E03F"
      }
    },
    {
      "cell_type": "code",
      "source": [
        "# Só dá para realizar no VSCODE\n",
        "from sys import argv\n",
        "\n",
        "script, filename = argv\n",
        "\n",
        "print(f\"We're going to erase {filename}.\")\n",
        "print(\"If you don't want that, hit CTRL - C (^C).\")\n",
        "print(\"If you do want that, hit RETURN.\")\n",
        "\n",
        "input(\"?\")\n",
        "\n",
        "print(\"Opening the file...\")\n",
        "target = open(filename, 'w')\n",
        "\n",
        "print(\"Truncanting the file. Goodbye!\")\n",
        "target.truncate()\n",
        "\n",
        "print(\"Now I'm going to ask you for three lines.\")\n",
        "\n",
        "line1 = input(\"line 1: \")\n",
        "line2 = input(\"line 2: \")\n",
        "line3 = input(\"line 3: \")\n",
        "\n",
        "print(\"I'm going to write these to the file.\")\n",
        "\n",
        "target.write(line1)\n",
        "target.write(\"\\n\")\n",
        "target.write(line2)\n",
        "target.write(\"\\n\")\n",
        "target.write(line3)\n",
        "target.write(\"\\n\")\n",
        "\n",
        "print(\"And finally, we close it.\")\n",
        "target.close"
      ],
      "metadata": {
        "id": "S6KdfwgbE6gY"
      },
      "execution_count": null,
      "outputs": []
    },
    {
      "cell_type": "markdown",
      "source": [
        "## EXERCÍCIO 25 - Mais Arquivos\n",
        "\n",
        "---\n",
        "### REALIZAR NO VSCODE\n",
        "\n"
      ],
      "metadata": {
        "id": "s3eu0RHf8pcJ"
      }
    },
    {
      "cell_type": "code",
      "source": [
        "# Só dá para realizar no VSCODE\n",
        "from sys import argv\n",
        "from os.path import exists\n",
        "\n",
        "script, from_file, to_file = argv\n",
        "\n",
        "print(f\"Copying from {from_file} to {to_file}\")\n",
        "\n",
        "# Poderíamos fazer esses dois com uma linha, como?\n",
        "in_file = open(from_file)\n",
        "indata = in_file.read()\n",
        "\n",
        "print(f\"The input file is {len(indata)} bytes long\")\n",
        "\n",
        "print(f\"Does the output file exist? {exists(to_file)}\")\n",
        "print(\"Ready, hit RETURN to continue, CTRL-C to abort.\")\n",
        "input()\n",
        "\n",
        "out_file = open(to_file, 'w')\n",
        "out_file.write(indata)\n",
        "\n",
        "print(\"Alright, all done.\")\n",
        "\n",
        "out_file.close()\n",
        "in_file.close()"
      ],
      "metadata": {
        "id": "7GG3C7Zq97SZ"
      },
      "execution_count": null,
      "outputs": []
    },
    {
      "cell_type": "markdown",
      "source": [
        "## EXERCÍCIO 26 - Funções e Arquivos\n",
        "\n",
        "---\n",
        "### REALIZAR NO VSCODE"
      ],
      "metadata": {
        "id": "uUvcZJHR-GRV"
      }
    },
    {
      "cell_type": "code",
      "source": [
        "# Só dá para realizar no VSCODE\n",
        "from sys import argv\n",
        "\n",
        "script, input_file = argv\n",
        "\n",
        "def print_all(f):\n",
        "    print(f.read())\n",
        "\n",
        "def rewind(f):\n",
        "    f.seek(0)\n",
        "\n",
        "def print_a_line(line_count, f):\n",
        "    print(line_count, f.readline())\n",
        "\n",
        "current_file = open(input_file)\n",
        "\n",
        "print(\"First let's print the whole file:\\n\")\n",
        "\n",
        "print_all(current_file)\n",
        "\n",
        "print(\"Now let's rewind, kind of like a tape.\")\n",
        "\n",
        "rewind(current_file)\n",
        "\n",
        "print(\"Let's print three lines:\")\n",
        "\n",
        "current_line = 1\n",
        "print_a_line(current_line, current_file)\n",
        "\n",
        "current_line = current_line + 1\n",
        "print_a_line(current_line, current_file)\n",
        "\n",
        "current_line = current_line + 1\n",
        "print_a_line(current_line, current_file)"
      ],
      "metadata": {
        "id": "J3ox4SUbHleb"
      },
      "execution_count": null,
      "outputs": []
    },
    {
      "cell_type": "markdown",
      "source": [
        "## EXERCÍCIO 27 - Mais prática"
      ],
      "metadata": {
        "id": "t253hg-uH0vy"
      }
    },
    {
      "cell_type": "code",
      "source": [
        "print(\"Let's practice everything.\")\n",
        "print('You\\'d need to know \\'bout escapes with \\\\ that do:')\n",
        "print('\\n newlines and \\t tabs.')\n",
        "\n",
        "poem = \"\"\"\n",
        "\\tThe lovely world\n",
        "with logic so firmly planted\n",
        "cannot discern \\n the needs of love\n",
        "nor comprehend passion from intuition\n",
        "and requires an explanation\n",
        "\\n\\t\\twhere there is none.\n",
        "\"\"\"\n",
        "\n",
        "print(\"--------------\")\n",
        "print(poem)\n",
        "print(\"--------------\")\n",
        "\n",
        "five = 10 - 2 + 3 - 6\n",
        "print(f\"This should be five: {five}\")\n",
        "\n",
        "def secret_formula(started):\n",
        "    jelly_beans = started * 500\n",
        "    jars = jelly_beans / 1000\n",
        "    crates = jars / 100\n",
        "    return jelly_beans, jars, crates\n",
        "\n",
        "start_point = 10000\n",
        "beans, jars, crates = secret_formula(start_point)\n",
        "\n",
        "# Lembre-se de que essa é uma outra maneira de formatar uma string\n",
        "print(\"With a starting point of: {}\".format(start_point))\n",
        "# É como usar a string f\"\"\n",
        "print(f\"We'd have {beans} beans, {jars} jars, and {crates} crates.\")\n",
        "\n",
        "start_point = start_point / 10\n",
        "\n",
        "print(\"We can also do that this way:\")\n",
        "formula = secret_formula(start_point)\n",
        "# Essa é uma maneira fácil de aplicar uma lista a uma string de formatação\n",
        "print(\"We'd have {} beans, {} jars, and {} crates.\".format(*formula))\n"
      ],
      "metadata": {
        "id": "5YSEEzQlKk9N",
        "outputId": "a9b43f17-e02e-43ee-d257-8e20d518d96b",
        "colab": {
          "base_uri": "https://localhost:8080/"
        }
      },
      "execution_count": 1,
      "outputs": [
        {
          "output_type": "stream",
          "name": "stdout",
          "text": [
            "Let's practice everything.\n",
            "You'd need to know 'bout escapes with \\ that do:\n",
            "\n",
            " newlines and \t tabs.\n",
            "--------------\n",
            "\n",
            "\tThe lovely world\n",
            "with logic so firmly planted\n",
            "cannot discern \n",
            " the needs of love\n",
            "nor comprehend passion from intuition\n",
            "and requires an explanation\n",
            "\n",
            "\t\twhere there is none.\n",
            "\n",
            "--------------\n",
            "This should be five: 5\n",
            "With a starting point of: 10000\n",
            "We'd have 5000000 beans, 5000.0 jars, and 50.0 crates.\n",
            "We can also do that this way:\n",
            "We'd have 500000.0 beans, 500.0 jars, and 5.0 crates.\n"
          ]
        }
      ]
    },
    {
      "cell_type": "markdown",
      "source": [
        "## EXERCÍCIO 28 - Desvios e Funções\n",
        "\n",
        "---\n",
        "### REALIZAR NO VSCODE"
      ],
      "metadata": {
        "id": "OJJO8lGsKsu_"
      }
    },
    {
      "cell_type": "code",
      "source": [
        "# Só dá para realizar no VSCODE\n",
        "from sys import exit\n",
        "\n",
        "def sala_do_ouro():\n",
        "    print(\"Esta sala está cheia de ouro. Quanto você pega?\")\n",
        "    print(\"Digite um número.\")\n",
        "\n",
        "    escolha = input(\"> \")\n",
        "    if \"0\" in escolha or \"1\" in escolha:\n",
        "        quanto = int(escolha)\n",
        "    else:\n",
        "        morrer(\"Cara, aprenda a digitar um número.\")\n",
        "\n",
        "    if quanto < 50:\n",
        "        print(\"Legal, você não é ganancioso, você venceu!\")\n",
        "        exit(0)\n",
        "    else:\n",
        "        morrer(\"Seu ganancioso!\")\n",
        "\n",
        "def sala_do_urso():\n",
        "    print(\"Há um urso aqui.\")\n",
        "    print(\"O urso tem um monte de mel.\")\n",
        "    print(\"O urso gordo está na frente de outra porta.\")\n",
        "    print(\"O que você faz?\")\n",
        "    print(\"Opções: 'pegar mel', 'provocar urso'.\")\n",
        "    urso_movido = False\n",
        "\n",
        "    while True:\n",
        "       escolha = input(\"> \")\n",
        "\n",
        "       if escolha == \"pegar mel\":\n",
        "          morrer(\"O urso olha para você e arranca sua cara com uma patada.\")\n",
        "       elif escolha == \"provocar urso\" and not urso_movido:\n",
        "          print(\"O urso se moveu da porta.\")\n",
        "          print(\"Você pode 'abrir porta' agora.\")\n",
        "          urso_movido = True\n",
        "       elif escolha == \"provocar urso\" and urso_movido:\n",
        "          morrer(\"O urso fica puto e arranca sua perna.\")\n",
        "       elif escolha == \"abrir porta\" and urso_movido:\n",
        "          sala_do_ouro()\n",
        "       else:\n",
        "          print(\"Não entendi sua escolha. Tente novamente.\")\n",
        "\n",
        "def sala_de_cthulhu():\n",
        "    print(\"Aqui você vê o grande mal, Cthulhu.\")\n",
        "    print(\"Ele, isso, seja lá o que for, olha para você e você enlouquece.\")\n",
        "    print(\"O que você faz?\")\n",
        "    print(\"Opções: 'foge', 'cabeça'.\")\n",
        "\n",
        "    escolha = input(\"> \")\n",
        "\n",
        "    if \"foge\" in escolha:\n",
        "       comecar()\n",
        "    elif \"cabeça\" in escolha:\n",
        "       morrer(\"Bem, isso foi gostoso!\")\n",
        "    else:\n",
        "       sala_de_cthulhu()\n",
        "\n",
        "def morrer(porque):\n",
        "    print(porque, \"Bom trabalho!\")\n",
        "    return \"The game in over\"\n",
        "\n",
        "def comecar():\n",
        "    print(\"Você está em uma sala escura.\")\n",
        "    print(\"Há uma porta à sua direita e à sua esquerda.\")\n",
        "    print(\"Qual você pega?\")\n",
        "    print(\"Opções: 'esquerda', 'direita'.\")\n",
        "\n",
        "    escolha = input(\"> \")\n",
        "\n",
        "    if escolha == \"esquerda\":\n",
        "        sala_do_urso()\n",
        "    elif escolha == \"direita\":\n",
        "        sala_de_cthulhu()\n",
        "    else:\n",
        "        morrer(\"Você tropeça pela sala até morrer de fome.\")\n",
        "\n",
        "comecar()\n"
      ],
      "metadata": {
        "id": "lmQeaPLBcOL1"
      },
      "execution_count": null,
      "outputs": []
    }
  ]
}