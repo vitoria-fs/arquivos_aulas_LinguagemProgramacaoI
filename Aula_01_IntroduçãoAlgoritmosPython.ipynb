{
  "nbformat": 4,
  "nbformat_minor": 0,
  "metadata": {
    "colab": {
      "provenance": [],
      "authorship_tag": "ABX9TyO6SaDglIF4CLdXdjSVUSGg",
      "include_colab_link": true
    },
    "kernelspec": {
      "name": "python3",
      "display_name": "Python 3"
    },
    "language_info": {
      "name": "python"
    }
  },
  "cells": [
    {
      "cell_type": "markdown",
      "metadata": {
        "id": "view-in-github",
        "colab_type": "text"
      },
      "source": [
        "<a href=\"https://colab.research.google.com/github/vitoria-fs/arquivos_aulas_LinguagemProgramacaoI/blob/main/Aula_01_Introdu%C3%A7%C3%A3oAlgoritmosPython.ipynb\" target=\"_parent\"><img src=\"https://colab.research.google.com/assets/colab-badge.svg\" alt=\"Open In Colab\"/></a>"
      ]
    },
    {
      "cell_type": "markdown",
      "source": [
        "# **Primeiros passos com Python**\n",
        "\n",
        "Vamos realizar os primeiros códigos com a linguagem Python para observar o funcionamento das etapas:\n",
        "\n",
        "1. Entrada\n",
        "2. Processamento\n",
        "3. Saída\n",
        "4. Comentários"
      ],
      "metadata": {
        "id": "X4EwjcCKuwSX"
      }
    },
    {
      "cell_type": "markdown",
      "source": [
        "## EXERCÍCIO 1 - Um Bom Programa Inicial\n",
        "O primeiro passo para usar linhas de código em alguma linguagem (saída de dados)"
      ],
      "metadata": {
        "id": "9stp4fxIvUQH"
      }
    },
    {
      "cell_type": "code",
      "source": [
        "print(\"Hello World!\")\n",
        "print(\"Hello Again.\")\n",
        "\n",
        "print(\"I like Typing this.\")\n",
        "print(\"Yay! Printing.\")\n",
        "\n",
        "print(\"I'd much rather you not.\")\n",
        "print(\"I said do not touch this.\")"
      ],
      "metadata": {
        "colab": {
          "base_uri": "https://localhost:8080/"
        },
        "id": "JmlXbFQ3v0qD",
        "outputId": "cecf3a91-c0d8-4a6a-e06f-0f13d4d9b818"
      },
      "execution_count": null,
      "outputs": [
        {
          "output_type": "stream",
          "name": "stdout",
          "text": [
            "Hello World!\n",
            "Hello Again.\n",
            "I like Typing this.\n",
            "Yay! Printing.\n",
            "I'd much rather you not.\n",
            "I said do not touch this.\n"
          ]
        }
      ]
    },
    {
      "cell_type": "markdown",
      "source": [
        "## EXERCÍCIO 2 - Comentários e Cerquilhas\n",
        "\n",
        "Compreender o uso de comentários para minhas linhas de códigos;"
      ],
      "metadata": {
        "id": "wLMJUKIww0gB"
      }
    },
    {
      "cell_type": "code",
      "source": [
        "# Um comentário, assim você pode ler seu programa mais tarde.\n",
        "# Qualquer coisa depois de # é ignorada pelo Python.\n",
        "\n",
        "print(\"I could have code like this.\") # e o comentário depois ignorado\n",
        "\n",
        "# Você também pode usar um comentário para desabilitar um código:\n",
        "# print(\"This won't run.\")\n",
        "\n",
        "print(\"This will run\")"
      ],
      "metadata": {
        "colab": {
          "base_uri": "https://localhost:8080/"
        },
        "id": "BdYcNCLyxE2w",
        "outputId": "09779dce-0091-447a-ed09-909b26c77ad8"
      },
      "execution_count": null,
      "outputs": [
        {
          "output_type": "stream",
          "name": "stdout",
          "text": [
            "I could have code like this.\n",
            "This will run\n"
          ]
        }
      ]
    },
    {
      "cell_type": "markdown",
      "source": [
        "## EXERCÍCIO 3 - Números e Matemática\n",
        "\n",
        "Primeiras operações matemáticas, dentro da instrução de saída de dados;"
      ],
      "metadata": {
        "id": "8uhlYBGJyI7R"
      }
    },
    {
      "cell_type": "code",
      "source": [
        "#Inicia com um texto sobre o que será feito no resto do programa\n",
        "print( \"I will now count my chickens:\")\n",
        "#Irá concatenar o texto entre aspas com o resultado das operações após as vírgulas\n",
        "print(\"Hens\", 25 + 30 / 6)\n",
        "print(\"Roosters\", 100 - 25 * 3 % 4)\n",
        "#Inicia com um texto sobre o que será feito no resto do programa\n",
        "print( \"Now I will count the eggs:\")\n",
        "#Irá realizar uma operação matemática\n",
        "print(3 + 2 + 1 - 5 + 4 % 2 - 1 / 4 + 6)\n",
        "#Inicia com um texto sobre o que será feito no resto do programa\n",
        "print(\"Is it true that 3 + 2 < 5 - 7?\")\n",
        "#Realizar uma operação relacionando em que o resultado é booleano\n",
        "print(3 + 2 < 5 - 7)\n",
        "#Inicia com um texto sobre o que será feito no resto do programa\n",
        "print(\"Whats is 3 + 2?\", 3 + 2)\n",
        "print(\"Whats is 5 - 7?\", 5 - 7)\n",
        "#Inicia com um texto sobre o que será feito no resto do programa\n",
        "print(\"Oh, that's why it's False.\")\n",
        "#Inicia com um texto sobre o que será feito no resto do programa\n",
        "print(\"How about some more.\")\n",
        "#Texto com operações relacionais\n",
        "print(\"Is it greater?\", 5 > -2)\n",
        "print(\"Is it greater or equal?\", 5 >= -2)\n",
        "print(\"Is it less or equal?\", 5 <= -2)"
      ],
      "metadata": {
        "colab": {
          "base_uri": "https://localhost:8080/"
        },
        "id": "xwvI1V-CyXqN",
        "outputId": "e76a73b8-028a-4633-8f6a-17db8331fa40"
      },
      "execution_count": null,
      "outputs": [
        {
          "output_type": "stream",
          "name": "stdout",
          "text": [
            "I will now count my chickens:\n",
            "Hens 30.0\n",
            "Roosters 97\n",
            "Now I will count the eggs:\n",
            "6.75\n",
            "Is it true that 3 + 2 < 5 - 7?\n",
            "False\n",
            "Whats is 3 + 2? 5\n",
            "Whats is 5 - 7? -2\n",
            "Oh, that's why it's False.\n",
            "How about some more.\n",
            "Is it greater? True\n",
            "Is it greater or equal? True\n",
            "Is it less or equal? False\n"
          ]
        }
      ]
    },
    {
      "cell_type": "markdown",
      "source": [
        "## EXERCÍCIO 4 - Variáveis e Nomes\n",
        "\n",
        "Como declarar variáveis e seus rótulos;"
      ],
      "metadata": {
        "id": "vde0QTVJ1DgF"
      }
    },
    {
      "cell_type": "code",
      "source": [
        "cars = 100 #atribuindo um número inteiro\n",
        "spaceInACar = 4.0 #atribuindo um número real\n",
        "drivers = 30 #atribuindo um número inteiro\n",
        "passengers = 90 #atribuindo um número inteiro\n",
        "carsNotDriven = cars - drivers # operação aritmética entre inteiro e inteiro\n",
        "carsDriven = drivers # atribuição de valor entre variáveis sem operação\n",
        "carpoolCapacity = carsDriven * spaceInACar # atribuindo o resultado de uma operação aritmética entre inteiro e real\n",
        "averagePassengersPerCar = passengers / carsDriven # atribuindo o resultado de uma operação aritmética entre inteiro e inteiro\n",
        "\n",
        "print(\"There are\", cars, \"cars available.\")\n",
        "print(\"There are only\", drivers, \"drivers available.\")\n",
        "print(\"There will be\", carsNotDriven, \"empty cars today.\")\n",
        "print(\"We can transport\", carpoolCapacity, \"people today.\")\n",
        "print(\"We have\", passengers, \"to carpool today.\")\n",
        "print(\"We need to put about\", averagePassengersPerCar, \"in each car.\")\n",
        "print(10/5)"
      ],
      "metadata": {
        "colab": {
          "base_uri": "https://localhost:8080/"
        },
        "id": "cVpHeiUh1eWZ",
        "outputId": "bc3ff86d-47e3-48ba-e521-5888f404e2be"
      },
      "execution_count": null,
      "outputs": [
        {
          "output_type": "stream",
          "name": "stdout",
          "text": [
            "There are 100 cars available.\n",
            "There are only 30 drivers available.\n",
            "There will be 70 empty cars today.\n",
            "We can transport 120.0 people today.\n",
            "We have 90 to carpool today.\n",
            "We need to put about 3.0 in each car.\n",
            "2.0\n"
          ]
        }
      ]
    }
  ]
}