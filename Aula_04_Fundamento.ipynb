{
  "nbformat": 4,
  "nbformat_minor": 0,
  "metadata": {
    "colab": {
      "provenance": [],
      "authorship_tag": "ABX9TyM1fTmLrfGlU8qnuluuqhUk",
      "include_colab_link": true
    },
    "kernelspec": {
      "name": "python3",
      "display_name": "Python 3"
    },
    "language_info": {
      "name": "python"
    }
  },
  "cells": [
    {
      "cell_type": "markdown",
      "metadata": {
        "id": "view-in-github",
        "colab_type": "text"
      },
      "source": [
        "<a href=\"https://colab.research.google.com/github/vitoria-fs/arquivos_aulas_LinguagemProgramacaoI/blob/main/Aula_04_Fundamento.ipynb\" target=\"_parent\"><img src=\"https://colab.research.google.com/assets/colab-badge.svg\" alt=\"Open In Colab\"/></a>"
      ]
    },
    {
      "cell_type": "markdown",
      "source": [
        "## Aula 04 - Fundamento da Linguagem Python\n",
        "\n",
        "* Laços de Repetição\n",
        "* Listas\n",
        "* Funções\n",
        "\n"
      ],
      "metadata": {
        "id": "WGv-HfO80wGh"
      }
    },
    {
      "cell_type": "markdown",
      "source": [
        "## EXERCÍCIO 16 - Loops e Listas"
      ],
      "metadata": {
        "id": "1BM-RsGT1beX"
      }
    },
    {
      "cell_type": "code",
      "source": [
        "the_count = [1, 2, 3, 4, 5]\n",
        "fruits = ['apples', 'oranges', 'pears', 'apricots']\n",
        "change = [1, 'pennies', 2, 'dimes', 3, 'quarters']\n",
        "\n",
        "for number in the_count:\n",
        "  print(f\"This is count {number}\")\n",
        "\n",
        "for fruit in fruits:\n",
        "  print(f\"A fruit of type: {fruit}\")\n",
        "\n",
        "for i in change:\n",
        "  print(f\"I got {i}\")\n",
        "\n",
        "elements = []\n",
        "\n",
        "for i in range(0, 6):\n",
        "  print(f\"Adding {i} to the list.\")\n",
        "\n",
        "  elements.append(i)\n",
        "\n",
        "for i in elements:\n",
        "  print(f\"Element was: {i}\")"
      ],
      "metadata": {
        "id": "GFCM9skp2A-2",
        "colab": {
          "base_uri": "https://localhost:8080/"
        },
        "outputId": "332183bf-a41e-4e7a-f956-de1f699c58c8"
      },
      "execution_count": null,
      "outputs": [
        {
          "output_type": "stream",
          "name": "stdout",
          "text": [
            "This is count 1\n",
            "This is count 2\n",
            "This is count 3\n",
            "This is count 4\n",
            "This is count 5\n",
            "A fruit of type: apples\n",
            "A fruit of type: oranges\n",
            "A fruit of type: pears\n",
            "A fruit of type: apricots\n",
            "I got 1\n",
            "I got pennies\n",
            "I got 2\n",
            "I got dimes\n",
            "I got 3\n",
            "I got quarters\n",
            "Adding 0 to the list.\n",
            "Adding 1 to the list.\n",
            "Adding 2 to the list.\n",
            "Adding 3 to the list.\n",
            "Adding 4 to the list.\n",
            "Adding 5 to the list.\n",
            "Element was: 0\n",
            "Element was: 1\n",
            "Element was: 2\n",
            "Element was: 3\n",
            "Element was: 4\n",
            "Element was: 5\n"
          ]
        }
      ]
    },
    {
      "cell_type": "markdown",
      "source": [
        "## EXERCÍCIO 17 - Loops While"
      ],
      "metadata": {
        "id": "N4TuUMbv2CgJ"
      }
    },
    {
      "cell_type": "code",
      "source": [
        "i = 0\n",
        "numbers = []\n",
        "\n",
        "while i < 6:\n",
        "  print(f\"At the top i is {i}\")\n",
        "  numbers.append(i)\n",
        "\n",
        "  i = i + 1\n",
        "  print(\"Numbers now: \", numbers)\n",
        "  print(f\"At the bottom i is {i}\")\n",
        "\n",
        "print(\"The numbers: \")\n",
        "for num in numbers:\n",
        "  print(num)"
      ],
      "metadata": {
        "id": "Ai8dGCZZ2IPz",
        "colab": {
          "base_uri": "https://localhost:8080/"
        },
        "outputId": "0227eb16-bb31-4160-d80f-b49139e8f2d2"
      },
      "execution_count": null,
      "outputs": [
        {
          "output_type": "stream",
          "name": "stdout",
          "text": [
            "At the top i is 0\n",
            "Numbers now:  [0]\n",
            "At the bottom i is 1\n",
            "At the top i is 1\n",
            "Numbers now:  [0, 1]\n",
            "At the bottom i is 2\n",
            "At the top i is 2\n",
            "Numbers now:  [0, 1, 2]\n",
            "At the bottom i is 3\n",
            "At the top i is 3\n",
            "Numbers now:  [0, 1, 2, 3]\n",
            "At the bottom i is 4\n",
            "At the top i is 4\n",
            "Numbers now:  [0, 1, 2, 3, 4]\n",
            "At the bottom i is 5\n",
            "At the top i is 5\n",
            "Numbers now:  [0, 1, 2, 3, 4, 5]\n",
            "At the bottom i is 6\n",
            "The numbers: \n",
            "0\n",
            "1\n",
            "2\n",
            "3\n",
            "4\n",
            "5\n"
          ]
        }
      ]
    },
    {
      "cell_type": "markdown",
      "source": [
        "## EXERCÍCIO 18 - Nomes, Variáveis, Códigos, Funções"
      ],
      "metadata": {
        "id": "Y2vM73Wn2Y1r"
      }
    },
    {
      "cell_type": "code",
      "source": [
        "def print_two(*args):\n",
        "  arg1, arg2 = args\n",
        "  print(f\"arg1: {arg1}, arg2: {arg2}\")\n",
        "\n",
        "def print_two_again(arg1, arg2):\n",
        "  print(f\"arg1: {arg1}, arg2: {arg2}\")\n",
        "\n",
        "def print_one(arg1):\n",
        "  print(f\"arg1: {arg1}\")\n",
        "\n",
        "def print_none():\n",
        "  print(\"I got nothin'.\")\n",
        "\n",
        "print_two(\"Zed\", \"Shaw\")\n",
        "print_two_again(\"Zed\", \"Shaw\")\n",
        "print_one(\"First!\")\n",
        "print_none()"
      ],
      "metadata": {
        "id": "Kh5BzHKv2ojy",
        "colab": {
          "base_uri": "https://localhost:8080/"
        },
        "outputId": "e8bab6b2-9496-4927-cd98-73f514687810"
      },
      "execution_count": null,
      "outputs": [
        {
          "output_type": "stream",
          "name": "stdout",
          "text": [
            "arg1: Zed, arg2: Shaw\n",
            "arg1: Zed, arg2: Shaw\n",
            "arg1: First!\n",
            "I got nothin'.\n"
          ]
        }
      ]
    },
    {
      "cell_type": "markdown",
      "source": [
        "## EXERCÍCIO 19 - Funções e Variáveis"
      ],
      "metadata": {
        "id": "6QfY_7od3CCC"
      }
    },
    {
      "cell_type": "code",
      "source": [
        "def cheese_and_crackers(cheese_count, boxes_of_crackers):\n",
        "  print(f\"You have {cheese_count} cheeses!\")\n",
        "  print(f\"You have {boxes_of_crackers} boxes of crackers!\")\n",
        "  print(\"Man that's enough for a party!\")\n",
        "  print(\"Get a blanket.\\n\")\n",
        "\n",
        "print(\"We can just give the function numbers directly:\")\n",
        "cheese_and_crackers(20, 30)\n",
        "\n",
        "print(\"OR, we can use variables from our script:\")\n",
        "amount_of_cheese = 10\n",
        "amount_of_crackers = 50\n",
        "\n",
        "cheese_and_crackers(amount_of_cheese, amount_of_crackers)\n",
        "\n",
        "print(\"We can even do math inside too:\")\n",
        "cheese_and_crackers(10 + 20, 5 + 6)\n",
        "\n",
        "print(\"And we can combine the two, variables and math:\")\n",
        "cheese_and_crackers(amount_of_cheese + 100, amount_of_crackers + 1000)"
      ],
      "metadata": {
        "id": "7UksZS0v3psW",
        "colab": {
          "base_uri": "https://localhost:8080/"
        },
        "outputId": "4621c7b1-5f4d-47a5-9cab-e823ffa805cd"
      },
      "execution_count": null,
      "outputs": [
        {
          "output_type": "stream",
          "name": "stdout",
          "text": [
            "We can just give the function numbers directly:\n",
            "You have 20 cheeses!\n",
            "You have 30 boxes of crackers!\n",
            "Man that's enough for a party!\n",
            "Get a blanket.\n",
            "\n",
            "OR, we can use variables from our script:\n",
            "You have 10 cheeses!\n",
            "You have 50 boxes of crackers!\n",
            "Man that's enough for a party!\n",
            "Get a blanket.\n",
            "\n",
            "We can even do math inside too:\n",
            "You have 30 cheeses!\n",
            "You have 11 boxes of crackers!\n",
            "Man that's enough for a party!\n",
            "Get a blanket.\n",
            "\n",
            "And we can combine the two, variables and math:\n",
            "You have 110 cheeses!\n",
            "You have 1050 boxes of crackers!\n",
            "Man that's enough for a party!\n",
            "Get a blanket.\n",
            "\n"
          ]
        }
      ]
    },
    {
      "cell_type": "markdown",
      "source": [
        "## EXERCÍCIO 20 - As Funções podem retornar algo"
      ],
      "metadata": {
        "id": "dBP5N52u3rN5"
      }
    },
    {
      "cell_type": "code",
      "source": [
        "def add(a,b):\n",
        "  print(f\"ADDING {a} + {b}\")\n",
        "  return a + b\n",
        "\n",
        "def subtract(a,b):\n",
        "  print(f\"SUBTRACTING {a} - {b}\")\n",
        "  return a - b\n",
        "\n",
        "def multiply(a,b):\n",
        "  print(f\"MULTIPLYING {a} * {b}\")\n",
        "  return a * b\n",
        "\n",
        "def divide(a,b):\n",
        "  print(f\"DIVIDING {a} / {b}\")\n",
        "  return a / b\n",
        "\n",
        "print(\"Let's do some math with just functions!\")\n",
        "\n",
        "age = add(30, 5)\n",
        "height = subtract(78, 4)\n",
        "weight = multiply(90, 2)\n",
        "iq = divide(100, 2)\n",
        "\n",
        "print(f\"Age: {age}, Height: {height}, Weight: {weight}, IQ: {iq}\")\n",
        "\n",
        "# Uma charada para ponto extra, digite isso.\n",
        "print(\"Here is a puzzle.\")\n",
        "what = add(age, subtract(height, multiply(weight, divide(iq, 2))))\n",
        "print(\"That becomes: \", what, \"Can you do it by hand?\")\n",
        "\n"
      ],
      "metadata": {
        "id": "4iW62PoD41BB",
        "colab": {
          "base_uri": "https://localhost:8080/"
        },
        "outputId": "f9881c33-3db4-4306-bf3a-8a5f9496ff41"
      },
      "execution_count": null,
      "outputs": [
        {
          "output_type": "stream",
          "name": "stdout",
          "text": [
            "Let's do some math with just functions!\n",
            "ADDING 30 + 5\n",
            "SUBTRACTING 78 - 4\n",
            "MULTIPLYING 90 * 2\n",
            "DIVIDING 100 / 2\n",
            "Age: 35, Height: 74, Weight: 180, IQ: 50.0\n",
            "Here is a puzzle.\n",
            "DIVIDING 50.0 / 2\n",
            "MULTIPLYING 180 * 25.0\n",
            "SUBTRACTING 74 - 4500.0\n",
            "ADDING 35 + -4426.0\n",
            "That becomes:  -4391.0 Can you do it by hand?\n"
          ]
        }
      ]
    },
    {
      "cell_type": "markdown",
      "source": [
        "#Exercício 21 - Parâmetros, Descompactação e Váriaveis\n",
        "\n",
        "\n",
        "\n",
        "---\n",
        "\n",
        "###REALIZAR NO VSCODE\n"
      ],
      "metadata": {
        "id": "tEF_oC2Z_T2I"
      }
    },
    {
      "cell_type": "code",
      "source": [
        "# Só dá para realizar no VSCODE\n",
        "from sys import argv\n",
        "script, first, second, third = argv\n",
        "\n",
        "print(\"The script is called\", script)\n",
        "print(\"Your first variable is\", first)\n",
        "print(\"Your second variable is\", second)\n",
        "print(\"Your third variable is\", third)\n"
      ],
      "metadata": {
        "id": "1MQXzPyv_rrZ"
      },
      "execution_count": null,
      "outputs": []
    },
    {
      "cell_type": "markdown",
      "source": [
        "##EXERCÍCIO 22 - Parâmetros, Descompactação e Variáveis\n",
        "\n",
        "---\n",
        "### REALIZAR NO VSCODE\n"
      ],
      "metadata": {
        "id": "XAyThB8JAcbf"
      }
    },
    {
      "cell_type": "code",
      "source": [
        "# Só dá para realizar no VSCODE\n",
        "from sys import argv\n",
        "\n",
        "script, user_name = argv\n",
        "prompt = '> '\n",
        "\n",
        "print(f\"Hi {user_name}, I'm the {script} script.\")\n",
        "print(\"I'd like to ask you a few questions.\")\n",
        "print(f\"Do you like me {user_name}?\")\n",
        "likes = input(prompt)\n",
        "\n",
        "print(f\"Where do you live {user_name}?\")\n",
        "lives = input(prompt)\n",
        "\n",
        "print(\"What kind of computer do you have?\")\n",
        "computer = input(prompt)\n",
        "\n",
        "print(f\"\"\"\n",
        "      Alright, so you said {likes} about liking me.\n",
        "      You live in {lives}. Not sure where that is.\n",
        "      And you have a {computer} computer. Nice.\n",
        "\"\"\")"
      ],
      "metadata": {
        "id": "gxGJSZrE68iz"
      },
      "execution_count": null,
      "outputs": []
    }
  ]
}